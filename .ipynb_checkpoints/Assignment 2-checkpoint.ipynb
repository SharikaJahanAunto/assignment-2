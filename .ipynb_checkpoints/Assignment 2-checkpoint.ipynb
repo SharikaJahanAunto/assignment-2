{
 "cells": [
  {
   "cell_type": "markdown",
   "id": "5fd7c0b8",
   "metadata": {},
   "source": [
    "# 1. Write a program that swaps the values of two variables."
   ]
  },
  {
   "cell_type": "code",
   "execution_count": null,
   "id": "497ee38b",
   "metadata": {},
   "outputs": [],
   "source": [
    "x = 35\n",
    "y = 70\n",
    "\n",
    "temp = x\n",
    "x=y\n",
    "y = temp \n",
    "\n",
    "print('Enter the value of x:', x)\n",
    "print('Enter the value of y:', y)"
   ]
  },
  {
   "cell_type": "markdown",
   "id": "51ace29c",
   "metadata": {},
   "source": [
    "# 2. Write a program that calculates the area of a rectangle given its length and width."
   ]
  },
  {
   "cell_type": "code",
   "execution_count": null,
   "id": "7a811b5a",
   "metadata": {},
   "outputs": [],
   "source": [
    "height= 6\n",
    "width= 10 \n",
    "\n",
    "area = height * width \n",
    "print('Area of Rectangle:', area)"
   ]
  },
  {
   "cell_type": "markdown",
   "id": "8f442d90",
   "metadata": {},
   "source": [
    "# 3. Write a program that converts temperature from Fahrenheit to Celsius."
   ]
  },
  {
   "cell_type": "code",
   "execution_count": null,
   "id": "969259b2",
   "metadata": {},
   "outputs": [],
   "source": [
    "Farenheit = 45\n",
    "Celcius = float((Farenheit - 32) * 5 / 9)\n",
    "\n",
    "print('Temperature in Celsius', Celcius)"
   ]
  },
  {
   "cell_type": "markdown",
   "id": "63ff150b",
   "metadata": {},
   "source": [
    "# 4. Write a program that calculates the volume of a sphere given its radius."
   ]
  },
  {
   "cell_type": "code",
   "execution_count": null,
   "id": "cf5f0ac2",
   "metadata": {},
   "outputs": [],
   "source": [
    "Radius = 5\n",
    "\n",
    "volume = float((4/3)*3.14*pow(Radius,3))\n",
    "print('volume of sphere', volume)"
   ]
  },
  {
   "cell_type": "markdown",
   "id": "b47969a6",
   "metadata": {},
   "source": [
    "# 5. Write a program that finds the average of three numbers."
   ]
  },
  {
   "cell_type": "code",
   "execution_count": null,
   "id": "573c8cd9",
   "metadata": {},
   "outputs": [],
   "source": [
    "a= 7\n",
    "b= 8\n",
    "c= 9\n",
    "\n",
    "avg = float((a+b+c)/3)\n",
    "print('Average of three numbers', avg)"
   ]
  },
  {
   "cell_type": "markdown",
   "id": "8949626b",
   "metadata": {},
   "source": [
    "# 6. Write a program that determines if a number is even or odd."
   ]
  },
  {
   "cell_type": "code",
   "execution_count": null,
   "id": "073b98c3",
   "metadata": {},
   "outputs": [],
   "source": [
    "number = int(input('Enter any number to test whether it is odd or even:', ))\n",
    "\n",
    "if(number%2)==0:\n",
    "    print('The number is even')\n",
    "else:\n",
    "    print('The nuumber is odd')\n"
   ]
  },
  {
   "cell_type": "markdown",
   "id": "c4c296cc",
   "metadata": {},
   "source": [
    "# 7. Write a program that finds the maximum of three numbers."
   ]
  },
  {
   "cell_type": "code",
   "execution_count": null,
   "id": "1f355362",
   "metadata": {},
   "outputs": [],
   "source": [
    "num1 = 3\n",
    "num2 = 4\n",
    "num3 = 5\n",
    "\n",
    "if (num1> num2) and (num1> num3):\n",
    "    print('Num1 is the maximum number')\n",
    "elif (num2>num1) and (num2>num3):\n",
    "    print('Num2 is the maximum number')\n",
    "else:\n",
    "    print('Num3 is the maximum number')\n",
    "    "
   ]
  },
  {
   "cell_type": "markdown",
   "id": "572760e5",
   "metadata": {},
   "source": [
    "# 8. Write a program that determines if a year is a leap year or not."
   ]
  },
  {
   "cell_type": "code",
   "execution_count": null,
   "id": "f2dcc8ef",
   "metadata": {},
   "outputs": [],
   "source": [
    "year = int(input('Enter a year to check whether it is leap year or not:', ))\n",
    "\n",
    "if(year % 400 ==0) or ((year % 100 != 0) and (year % 4 == 0)):\n",
    "    print('The year is a leap year')\n",
    "else:\n",
    "    print('The year is not a leap year')"
   ]
  },
  {
   "cell_type": "markdown",
   "id": "5b468ee7",
   "metadata": {},
   "source": [
    "# 9. Write a program that determines if a number is positive, negative, or zero."
   ]
  },
  {
   "cell_type": "code",
   "execution_count": null,
   "id": "f19896cf",
   "metadata": {},
   "outputs": [],
   "source": [
    "num = int(input('Enter a number to check whether the number is positive, negative or zero: '))\n",
    "\n",
    "if (num >0):\n",
    "    print('The number is positive')\n",
    "elif(num<0):\n",
    "    print('The number is negative')\n",
    "else:\n",
    "    print('The number is zero')"
   ]
  },
  {
   "cell_type": "markdown",
   "id": "86635ab2",
   "metadata": {},
   "source": [
    "# 10. Write a program that calculates the grade based on a given percentage."
   ]
  },
  {
   "cell_type": "code",
   "execution_count": null,
   "id": "4d7204bc",
   "metadata": {},
   "outputs": [],
   "source": [
    "obtain_mark = float(input('Enter your obtained mark: '))\n",
    "test_mark = int(input('Enter your test mark: '))\n",
    "\n",
    "result  = (obtain_mark/test_mark) *  100\n",
    "\n",
    "if (result >= 80):\n",
    "    print('You have passed with A+')\n",
    "elif (result >= 70):\n",
    "    print('You have passed with A')\n",
    "elif (result >= 60):\n",
    "    print('You have passed with A-')\n",
    "elif (result >= 50):\n",
    "    print('You have passed with B')\n",
    "elif (result >= 40):\n",
    "    print('You have passed with c')    \n",
    "elif (result >= 33):\n",
    "    print('You have passed with D')\n",
    "else:\n",
    "    print('You have failed')\n",
    "    "
   ]
  },
  {
   "cell_type": "markdown",
   "id": "56670b96",
   "metadata": {},
   "source": [
    "# 11. Write a program that prints the first `n` natural numbers."
   ]
  },
  {
   "cell_type": "code",
   "execution_count": null,
   "id": "dca0e88b",
   "metadata": {},
   "outputs": [],
   "source": [
    "number = range(1,10)\n",
    "\n",
    "for i in number:\n",
    "    print(i)"
   ]
  },
  {
   "cell_type": "markdown",
   "id": "f4c4f9f6",
   "metadata": {},
   "source": [
    "# 12. Write a program that calculates the factorial of a number."
   ]
  },
  {
   "cell_type": "code",
   "execution_count": null,
   "id": "2109064f",
   "metadata": {},
   "outputs": [],
   "source": [
    "num = int(input('enter a number to get its factorial number: '))\n",
    "\n",
    "factorial = 1\n",
    "if num>=1:\n",
    "    for i in range(1, num+1):\n",
    "        factorial = factorial * i\n",
    "        \n",
    "print(factorial)    "
   ]
  },
  {
   "cell_type": "markdown",
   "id": "100d1782",
   "metadata": {},
   "source": [
    "# 13. Write a program that generates a Fibonacci sequence of length `n`."
   ]
  },
  {
   "cell_type": "code",
   "execution_count": null,
   "id": "19356557",
   "metadata": {},
   "outputs": [],
   "source": [
    "num = int(input('Enter any number'))\n",
    "n1, n2 = 0, 1\n",
    "sum = 0\n",
    "\n",
    "if(num<=0):\n",
    "    print('Please enter a valid number: ')\n",
    "else:\n",
    "    for i in range(0, num):\n",
    "        print(sum)\n",
    "        n1=n2\n",
    "        n2=sum\n",
    "        sum=n1+n2"
   ]
  },
  {
   "cell_type": "markdown",
   "id": "928e51c1",
   "metadata": {},
   "source": [
    "# 14. Write a program that checks if a given number is prime or not."
   ]
  },
  {
   "cell_type": "code",
   "execution_count": null,
   "id": "df6a7efe",
   "metadata": {},
   "outputs": [],
   "source": [
    "num = int(input('Enter any number: '))\n",
    "\n",
    "for i in range(2, num):\n",
    "    if(num % i == 0):\n",
    "        print('The number is not prime')\n",
    "        break\n",
    "else:\n",
    "    print('The number prime')\n"
   ]
  },
  {
   "cell_type": "markdown",
   "id": "c7ea1355",
   "metadata": {},
   "source": [
    "# 15. Write a program that prints the multiplication table of a given number."
   ]
  },
  {
   "cell_type": "code",
   "execution_count": null,
   "id": "1c13eac7",
   "metadata": {},
   "outputs": [],
   "source": [
    "num = int(input('Enter the number: '))\n",
    "for i in range(1,11):\n",
    "    print(num, '*', i, '=', num*i)"
   ]
  },
  {
   "cell_type": "markdown",
   "id": "fe78437f",
   "metadata": {},
   "source": [
    "# 16. Write a program that finds the sum of all even numbers between 1 and `n`."
   ]
  },
  {
   "cell_type": "code",
   "execution_count": null,
   "id": "8ea8afb4",
   "metadata": {},
   "outputs": [],
   "source": [
    "num = int(input('Enter any value: '))\n",
    "sum_even = 0\n",
    "\n",
    "for i in range(1, num + 1):\n",
    "    if i % 2 == 0:\n",
    "        sum_even += i\n",
    "\n",
    "print('Sum of even numbers:', sum_even)\n"
   ]
  },
  {
   "cell_type": "markdown",
   "id": "9dfa2b5a",
   "metadata": {},
   "source": [
    "# 17. Write a program that reverses a given number."
   ]
  },
  {
   "cell_type": "code",
   "execution_count": null,
   "id": "6f624e00",
   "metadata": {},
   "outputs": [],
   "source": [
    "num = range(20, 1, -1)\n",
    "\n",
    "for i in num:\n",
    "    print(i)"
   ]
  },
  {
   "cell_type": "markdown",
   "id": "a7389fa6",
   "metadata": {},
   "source": [
    "# 18. Write a program that checks if a given string, is a palindrome."
   ]
  },
  {
   "cell_type": "code",
   "execution_count": null,
   "id": "d18d82ac",
   "metadata": {},
   "outputs": [],
   "source": [
    "first_value = input('enter string')\n",
    "second_value = first_value[-1::-1]\n",
    "\n",
    "if(first_value == second_value):\n",
    "    print('The string is palindrome')\n",
    "else:\n",
    "    print('The string is not palindrome')"
   ]
  },
  {
   "cell_type": "markdown",
   "id": "2ce82b69",
   "metadata": {},
   "source": [
    "# 19. Write a program that generates a random number and allows the user to guess it."
   ]
  },
  {
   "cell_type": "code",
   "execution_count": null,
   "id": "497cd3ce",
   "metadata": {},
   "outputs": [],
   "source": [
    "import random\n",
    "\n",
    "number = random.randint(1,100)\n",
    "guess = 0 \n",
    "\n",
    "while guess != number:\n",
    "    guess = int(input(\"Enter Guess: \"))\n",
    "    \n",
    "    if(guess < number):\n",
    "        print('Guess higher!')\n",
    "    elif(guess > number):\n",
    "        print('Guesss lower!')\n",
    "    else:\n",
    "        print('you won')"
   ]
  },
  {
   "cell_type": "markdown",
   "id": "605ebf57",
   "metadata": {},
   "source": [
    "# 20. Write a program that finds the greatest common divisor (GCD) of two numbers."
   ]
  },
  {
   "cell_type": "code",
   "execution_count": null,
   "id": "a6af9ba6",
   "metadata": {},
   "outputs": [],
   "source": [
    "num1 = int(input('Enter first number: '))\n",
    "num2 = int(input('Enter second number: '))\n",
    "\n",
    "if num2 > num1:\n",
    "    mn = num1\n",
    "else:\n",
    "    mn = num2\n",
    "\n",
    "gcd = 1\n",
    "\n",
    "for i in range(1, mn + 1):\n",
    "    if num1 % i == 0 and num2 % i == 0:\n",
    "        gcd = i\n",
    "\n",
    "print('The GCD of these two numbers is', gcd)"
   ]
  },
  {
   "cell_type": "code",
   "execution_count": null,
   "id": "4ea78047",
   "metadata": {},
   "outputs": [],
   "source": []
  },
  {
   "cell_type": "code",
   "execution_count": null,
   "id": "5f6ab372",
   "metadata": {},
   "outputs": [],
   "source": []
  }
 ],
 "metadata": {
  "kernelspec": {
   "display_name": "Python 3 (ipykernel)",
   "language": "python",
   "name": "python3"
  },
  "language_info": {
   "codemirror_mode": {
    "name": "ipython",
    "version": 3
   },
   "file_extension": ".py",
   "mimetype": "text/x-python",
   "name": "python",
   "nbconvert_exporter": "python",
   "pygments_lexer": "ipython3",
   "version": "3.11.7"
  }
 },
 "nbformat": 4,
 "nbformat_minor": 5
}
